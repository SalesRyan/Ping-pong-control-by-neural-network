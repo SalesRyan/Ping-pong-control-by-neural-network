{
 "cells": [
  {
   "cell_type": "markdown",
   "metadata": {},
   "source": [
    "o x da raquete sempre é o memso.\n",
    "eu tenho que fazer com que o y da minha raquete seja o mesmo y da minha bola."
   ]
  },
  {
   "cell_type": "code",
   "execution_count": 5,
   "metadata": {},
   "outputs": [],
   "source": [
    "def normalize(x):#\n",
    "    return (x-np.min(x))/((np.max(x)-np.min(x))+0.001)"
   ]
  },
  {
   "cell_type": "code",
   "execution_count": 6,
   "metadata": {},
   "outputs": [],
   "source": [
    "import sys, pygame,MLP\n",
    "import numpy as np\n",
    "from numpy.random import randint\n",
    "import matplotlib.pyplot as plt"
   ]
  },
  {
   "cell_type": "code",
   "execution_count": 9,
   "metadata": {},
   "outputs": [],
   "source": [
    "VERDE=255,0,0\n",
    "AZUL=0,0,255\n",
    "\n",
    "class Raquete:\n",
    "    def __init__(self, tamanho,center=(50,400),COLOR=VERDE):\n",
    "        self.imagem=pygame.Surface(tamanho)\n",
    "        self.imagem.fill(COLOR)\n",
    "        self.imagem_retangulo=self.imagem.get_rect(center=center)\n",
    "        self.velocidade = 2\n",
    "\n",
    "    def move(self, x, y):\n",
    "        self.imagem_retangulo[0] += x * self.velocidade\n",
    "        self.imagem_retangulo[1] += y * self.velocidade\n",
    "\n",
    "    def atualiza(self, where, now ,ply=1):\n",
    "    \n",
    "        if now > where and ply == 1:\n",
    "            self.move(0, -1)\n",
    "        if now < where and ply == 1:\n",
    "            self.move(0, 1)\n",
    "        \n",
    "        if now > where and ply == 2:\n",
    "            self.move(0, -1)\n",
    "        if now < where and ply == 2:\n",
    "            self.move(0, 1)\n",
    "        \n",
    "        self.imagem_retangulo.clamp_ip(tela_retangulo)\n",
    "        \n",
    "    def realiza(self):\n",
    "        screen.blit(self.imagem, self.imagem_retangulo)\n",
    "        \n",
    "    def colisao(self,ballrect):\n",
    "        if self.imagem_retangulo.colliderect(ballrect): return True\n",
    "        else: return False\n",
    "    \n",
    "    def getxy(self):\n",
    "        return self.imagem_retangulo"
   ]
  },
  {
   "cell_type": "code",
   "execution_count": 10,
   "metadata": {},
   "outputs": [
    {
     "ename": "SystemExit",
     "evalue": "",
     "output_type": "error",
     "traceback": [
      "An exception has occurred, use %tb to see the full traceback.\n",
      "\u001b[1;31mSystemExit\u001b[0m\n"
     ]
    },
    {
     "name": "stderr",
     "output_type": "stream",
     "text": [
      "C:\\Users\\patri\\Anaconda3\\lib\\site-packages\\IPython\\core\\interactiveshell.py:3334: UserWarning: To exit: use 'exit', 'quit', or Ctrl-D.\n",
      "  warn(\"To exit: use 'exit', 'quit', or Ctrl-D.\", stacklevel=1)\n"
     ]
    },
    {
     "data": {
      "image/png": "[encoded data removed]",
      "text/plain": [
       "<Figure size 432x288 with 1 Axes>"
      ]
     },
     "metadata": {
      "needs_background": "light"
     },
     "output_type": "display_data"
    }
   ],
   "source": [
    "try:\n",
    "    pygame.init()\n",
    "\n",
    "    size = width, height = 800, 400\n",
    "\n",
    "    raquete1=Raquete(tamanho=(10, 40),center=(0,0),COLOR=VERDE)\n",
    "    raquete2=Raquete(tamanho=(10, 40),center=(width,200),COLOR=AZUL)\n",
    "\n",
    "    speed = [2, 2]\n",
    "    black = 0, 0, 0\n",
    "    \n",
    "    miss1=0\n",
    "    miss2=0\n",
    "    hit1=0\n",
    "    hit2=0\n",
    "    \n",
    "    screen = pygame.display.set_mode(size)\n",
    "    tela_retangulo=screen.get_rect()\n",
    "\n",
    "\n",
    "    ball = pygame.image.load(\"ball.png\")\n",
    "    ballrect = ball.get_rect(center =(width//2,randint(low=20, high=380, size=1)))\n",
    "    colision1 = False\n",
    "    colision2 = False\n",
    "\n",
    "    nn1 = MLP.NN(4,12,1)\n",
    "    nn2 = MLP.NN(2,2,1)\n",
    "\n",
    "    in1 = np.zeros((4,1))\n",
    "    in2 = np.zeros((2,1)) \n",
    "\n",
    "    tempo=pygame.time.Clock()\n",
    "\n",
    "    while 1:\n",
    "\n",
    "            for event in pygame.event.get():\n",
    "                if event.type == pygame.QUIT: \n",
    "                    x = [\"Hit IA-1\",\"Miss IA-1\",\"Hit IA-2\",\"Miss IA-2\"]\n",
    "                    y = [hit1,miss1,hit2,miss2]\n",
    "                    a = plt.bar(x,y,color=(\"red\",\"red\",\"blue\",\"blue\"))\n",
    "                    screen.blit(a,(100,100))\n",
    "                    pygame.quit()\n",
    "                    sys.exit()\n",
    "\n",
    "            in1[0][0] = ballrect.x\n",
    "            in1[1][0] = ballrect.y\n",
    "            in1[2][0] = raquete1.getxy().x\n",
    "            in1[3][0] = raquete1.getxy().y\n",
    "\n",
    "            in2[0][0] = ballrect.y\n",
    "            in2[1][0] = raquete2.getxy().y\n",
    "\n",
    "            in1 = normalize(in1)\n",
    "            in2 = normalize(in2)\n",
    "            value1 = 0.5\n",
    "            value2 = 0.5\n",
    "            \n",
    "            if speed[0] < 0:\n",
    "                _,_,o1 = nn1.train(in1,in1[1][0])\n",
    "                value1, po1= nn1.predict(in1)\n",
    "            else:\n",
    "                _,_,o2 = nn2.train(in2,in2[1][0])\n",
    "                value2, po2 = nn2.predict(in2)\n",
    "\n",
    "            where1 = int(value1*400)\n",
    "            where2 = int(value2*400)\n",
    "            \n",
    "            ballrect = ballrect.move(speed)\n",
    "\n",
    "            screen.fill(black)\n",
    "\n",
    "            raquete1.realiza()\n",
    "            raquete1.atualiza(where1,raquete1.getxy().y,ply=1)\n",
    "            colision1 = raquete1.colisao(ballrect)\n",
    "\n",
    "            raquete2.realiza()\n",
    "            raquete2.atualiza(where2,raquete2.getxy().y,ply=2)\n",
    "            colision2 = raquete2.colisao(ballrect)\n",
    "\n",
    "            if colision1:\n",
    "                hit1+=1\n",
    "                speed[0] = -speed[0]\n",
    "                colision1 = False   \n",
    "                \n",
    "            elif colision2:\n",
    "                hit2+=1\n",
    "                speed[0] = -speed[0]\n",
    "                colision2 = False\n",
    "\n",
    "            if ballrect.top < 0 or ballrect.bottom > height:\n",
    "                    speed[1] = -speed[1]\n",
    "\n",
    "            if ballrect.left < 0 or ballrect.right > width:\n",
    "                    ballrect = ball.get_rect(center =(width//2,randint(low=20, high=380, size=1)))\n",
    "                    if speed[0] < 0:\n",
    "                        speed[0] = -speed[0]\n",
    "                        miss1+=1\n",
    "                    else: \n",
    "                        speed[0] = -speed[0]\n",
    "                        miss2+=1\n",
    "\n",
    "            screen.blit(ball, ballrect)\n",
    "            pygame.display.flip()\n",
    "            \n",
    "except Exception as e:\n",
    "    pygame.quit()\n",
    "    sys.exit()\n",
    "    print(e)"
   ]
  },
  {
   "cell_type": "code",
   "execution_count": null,
   "metadata": {},
   "outputs": [],
   "source": []
  }
 ],
 "metadata": {
  "kernelspec": {
   "display_name": "Python 3",
   "language": "python",
   "name": "python3"
  },
  "language_info": {
   "codemirror_mode": {
    "name": "ipython",
    "version": 3
   },
   "file_extension": ".py",
   "mimetype": "text/x-python",
   "name": "python",
   "nbconvert_exporter": "python",
   "pygments_lexer": "ipython3",
   "version": "3.7.4"
  }
 },
 "nbformat": 4,
 "nbformat_minor": 4
}
